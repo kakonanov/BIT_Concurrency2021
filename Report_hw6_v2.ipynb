{
  "nbformat": 4,
  "nbformat_minor": 0,
  "metadata": {
    "colab": {
      "name": "Report-hw6_v2.ipynb",
      "provenance": []
    },
    "kernelspec": {
      "name": "python3",
      "display_name": "Python 3"
    },
    "language_info": {
      "name": "python"
    }
  },
  "cells": [
    {
      "cell_type": "markdown",
      "metadata": {
        "id": "iciODdQ4dMfU"
      },
      "source": [
        "#Token Ring"
      ]
    },
    {
      "cell_type": "markdown",
      "metadata": {
        "id": "ZyNrfYyXdw7e"
      },
      "source": [
        "##Постановка задачи"
      ]
    },
    {
      "cell_type": "markdown",
      "metadata": {
        "id": "ACDIVGpad2Vd"
      },
      "source": [
        "Задача: Построение простой модели сетевого протокола TokenRing и исследовании его свойств\n",
        "\n",
        "Этапы:\n",
        "+ Реализовать модель протокола\n",
        "+ Исследовать пропускную способность сети (throughput) и характерное время задержки (latency) в зависимости от количества узлов N и количества пакетов P\n",
        "+ Проанализировать полученные результаты\n",
        "+ Оптимизировать throughput или latency и исследовать влияние оптимизаций для одного режима на весь спектр режимов.\n"
      ]
    },
    {
      "cell_type": "markdown",
      "metadata": {
        "id": "_uNO5TQ8f2r2"
      },
      "source": [
        "## Определения"
      ]
    },
    {
      "cell_type": "markdown",
      "metadata": {
        "id": "vGU_W_jq-2op"
      },
      "source": [
        "+ Характерное время задержки (latency) - промежуток времени с момента отправки токена с ноды-отправителя до момента получения на ноде-получателе. \n",
        "\n",
        "+ Пропускную способность сети (throughput) - количество токенов прошедших через ноду за единицу времени.\n",
        "\n",
        "+ Максимальное количество токенов в системе - размер очереди * количество нод (нод коннекторов), то есть совокупный размер очередей.\n",
        "\n"
      ]
    },
    {
      "cell_type": "markdown",
      "metadata": {
        "id": "PMXavTVgfrLj"
      },
      "source": [
        "## Реализация"
      ]
    },
    {
      "cell_type": "markdown",
      "metadata": {
        "id": "aVZon-Y-dVD2"
      },
      "source": [
        "Протокол реализован на взаимодействии Node через NodeConnector, представляющий из себя блокирующую очередь (java.util.concurrent).\n",
        "Ноды передают далее по кругу пакет - токен, содержащий id и вспомогательное поле за замера времени задержки.\n",
        "\n",
        "При получении токена - нода его обрабатывает и передаёт дальше, не выбрасывая из системы.\n",
        "\n",
        "Под обработкой подразумевается получение экспериментальных данных и выполение операций с токеном, в нашем случае никаких дополнительных операций не производится.\n",
        "\n",
        "Ноды запускаются в разных потоках.\n"
      ]
    },
    {
      "cell_type": "markdown",
      "metadata": {
        "id": "GfRWWvVqgCPy"
      },
      "source": [
        "## Описание эспериментальной установки"
      ]
    },
    {
      "cell_type": "markdown",
      "metadata": {
        "id": "2F338FNKduns"
      },
      "source": [
        "Ноутбук MacBook Pro (2019):\n",
        "+ 2,6 GHz 6‑ядерный процессор Intel Core i7\n",
        "+ 16 ГБ 2667 MHz DDR4\n",
        "+ macOS Catalina 10.15.7"
      ]
    },
    {
      "cell_type": "markdown",
      "metadata": {
        "id": "eLm6OCRyJpSC"
      },
      "source": [
        "## Постановка эксперимента"
      ]
    },
    {
      "cell_type": "markdown",
      "metadata": {
        "id": "FNlT64HbJvcN"
      },
      "source": [
        "Эксперимент проводится с помощью библиотеки для модульного тестирования Junit. \n",
        "\n",
        "Предварительно проводится \"прогрев кода\" - работа протокола на 2х нода с 2мя токенами в течение 5 секунд.\n",
        "\n",
        "Для latency - единицы измерения nanoseconds. Время замеряется с помощью System.nanotime().\n",
        "\n",
        "Для throughput - единицы измерения количество токенов прошедших за 1 секунду.\n",
        "\n",
        "Как сказано выше, для замера latency и throughput используется все ноды, соответственно, \n",
        "\n",
        "latency - это время, за которое определенный токен проходит целый круг ( нода считывает значения только для токенов с определенным id (id % кол-во нод == id ноды)) \n",
        "\n",
        "throughput - это общее количество токенов прошедших через ноду за 1 секунду. \n",
        "\n",
        "Таким образом мы можем оценить общие характеристики всех нод, системы в целом"
      ]
    },
    {
      "cell_type": "markdown",
      "metadata": {
        "id": "_ylW9nIe_Si1"
      },
      "source": [
        "## Первичный анализ системы"
      ]
    },
    {
      "cell_type": "markdown",
      "metadata": {
        "id": "NkpUmhHsKlpk"
      },
      "source": [
        "Проведём эксперимент по определению количества нод, доступных для проведения эксперимента - выберем количество потоков, которое мы можем использовать в эксперименте для общей наглядности тенденций.\n",
        "\n",
        "Для этого запустим протокол на разном количестве нод."
      ]
    },
    {
      "cell_type": "markdown",
      "metadata": {
        "id": "OHlAKo7DaG1u"
      },
      "source": [
        "![](https://drive.google.com/uc?export=view&id=1UicW1iAebl4shQuGaV1Q4InLy1PRAYHC) ![](https://drive.google.com/uc?export=view&id=1-15dfh6GF_g7HYqU3S2J81DM9T9mrITa)"
      ]
    },
    {
      "cell_type": "markdown",
      "metadata": {
        "id": "vWLgL51_bZbc"
      },
      "source": [
        "Можно заметить, что latency растет с увеличением количества нод, что происходит из-за увеличения размеров круга, который нужно пройти токену для замера\n",
        "\n",
        "throughput так же растёт вначале и выходит на планку в конце, с необычной просадкой в середине.\n",
        "\n"
      ]
    },
    {
      "cell_type": "markdown",
      "metadata": {
        "id": "xBfQdlcHcFzl"
      },
      "source": [
        "## Определение зависимости latency и throughput от размера очереди."
      ]
    },
    {
      "cell_type": "markdown",
      "metadata": {
        "id": "OUKJ7704chzr"
      },
      "source": [
        "Далее представлены зависимости latency и throughput от размера очереди при разном количестве токенов в системе (нагрузке на систему).\n",
        "\n",
        "Размер очереди варируется от 2 до 8 так как далее выходит на планку.\n",
        "Рассматриваем три варианта нагрузки.\n",
        "\n",
        "Low load - количество токенов равно половине количества нод.\n",
        "\n",
        "Medium load - количество токенов равно количестве нод.\n",
        "\n",
        "High load - количество токенов равно 0.8 от 2 * количество нод.\n",
        "То есть больше количества нод и меньше макисмального количества, так же подходит для любого количества нод с очередью размера 2 и более."
      ]
    },
    {
      "cell_type": "markdown",
      "metadata": {
        "id": "YbQ7e3t3chwp"
      },
      "source": [
        "![](https://drive.google.com/uc?export=view&id=1-AU2fKifWCrDg0F4Cp0bxrOHYUlCy5Hk)![](https://drive.google.com/uc?export=view&id=1-Ax3OB8aC6F3cIJwLYl3WMcHXt9ruNUd)\n",
        "![](https://drive.google.com/uc?export=view&id=1-G-DadjiW8_Cl5ENVBQ7CHAB6ZFRaO8c)![](https://drive.google.com/uc?export=view&id=106dsZpCQ5p5DnGR2bPrZth1JVp37SpVx)\n",
        "![](https://drive.google.com/uc?export=view&id=1-JfaSONXwHK2isjiHYPTCnaKesrZ_kDK)![](https://drive.google.com/uc?export=view&id=105csgCqNny_mhxtQoRcMYpptVG8A9Xo9)"
      ]
    },
    {
      "cell_type": "markdown",
      "metadata": {
        "id": "cXHOYzDJkaIF"
      },
      "source": [
        "С увеличение количества нод увеличивается latency, что теоретически объяснимо - для прохождения полного круга необходимо пройти больше нод.\n",
        "\n",
        "На первых двух графиках почти нет заметных изменений в latency, увеличение очереди почти не даёт ускорения(для кол-ва нод до 10), так как количество токенов меньше количества нод, и все токены успевают обработаться без ожидания в очереди.\n",
        "\n",
        "Далее же можно наблюдать ускорение даже при малой нагрузке\n",
        "\n",
        "При medium и high load отчетливо видно, что увеличение размера очереди вносит существенный вклад в ускорение"
      ]
    },
    {
      "cell_type": "markdown",
      "metadata": {
        "id": "Tu_kSeR6chtw"
      },
      "source": [
        "![](https://drive.google.com/uc?export=view&id=1-P5BRDFpM4c0cPQXBCcmkdb5zoAJtqy3)![](https://drive.google.com/uc?export=view&id=1-OY-7iek_-8Lm5Ko_IchZUsg9PpPrgyJ)\n",
        "![](https://drive.google.com/uc?export=view&id=1-aJPjzlEYBMo4mhQZxiIuojDQLP7AdNq)![](https://drive.google.com/uc?export=view&id=1-aNd2GYeI9LIiqHWqnHvVlPjXIu2e8Gu)\n",
        "![](https://drive.google.com/uc?export=view&id=103lS-DjfzabnYH2TPCCuqVxex4XORV9i)![](https://drive.google.com/uc?export=view&id=103NIc3plqyNDB1NDtVWB00YLdICaEhNA)"
      ]
    },
    {
      "cell_type": "markdown",
      "metadata": {
        "id": "dQjBwGY8chqs"
      },
      "source": [
        "Аналогичную картину мы можем наблюдать и с throughput.\n",
        "Изменения появляются в основном при средней и повышенной нагрузке и при большом кол-ве нод в системе (от 9), всё по тем же причинам."
      ]
    },
    {
      "cell_type": "markdown",
      "metadata": {
        "id": "GkAUmC22chm0"
      },
      "source": [
        "Важно заметить, что обработка токенов не занимает много времени, поэтому мы получаем такие результаты на малой и средней нагрузках."
      ]
    },
    {
      "cell_type": "markdown",
      "metadata": {
        "id": "hRnHjvpechey"
      },
      "source": [
        "Далее следует более детально изучить зависимость latency и throughput от количества токенов в системе при разных размерах очереди."
      ]
    },
    {
      "cell_type": "markdown",
      "metadata": {
        "id": "AWYhre1xUrDR"
      },
      "source": [
        "## Определение зависимости latency и throughput от размера очереди (анализ влияния количества покетов в систмеме на показатели)"
      ]
    },
    {
      "cell_type": "markdown",
      "metadata": {
        "id": "speyrqYiUq_2"
      },
      "source": [
        "Для этого рассмотрим систему с 4, 8 и 12 нодами.\n",
        "Проведём эксперимент для размеров очереди 4, 8, 12, 20, 28 с количеством токенов от 3 до максимального с шагом 4."
      ]
    },
    {
      "cell_type": "markdown",
      "metadata": {
        "id": "FQVamM22emz7"
      },
      "source": [
        "#### 4 ноды"
      ]
    },
    {
      "cell_type": "markdown",
      "metadata": {
        "id": "vNkmKONTUq9h"
      },
      "source": [
        "![](https://drive.google.com/uc?export=view&id=106r6cGmEfwsVoe9hN9y6ZXq591S24aFX)\n",
        "![](https://drive.google.com/uc?export=view&id=108wfxZfVidsuwKfA8WTmS8YtEkhLfmbq)"
      ]
    },
    {
      "cell_type": "markdown",
      "metadata": {
        "id": "4ggKFCfze_zk"
      },
      "source": [
        "#### 8 нод"
      ]
    },
    {
      "cell_type": "markdown",
      "metadata": {
        "id": "Srqphiw9e8jI"
      },
      "source": [
        "![](https://drive.google.com/uc?export=view&id=10JSn_81ImOhH6xMNxpz2VZnAZssZ6VVh)\n",
        "![](https://drive.google.com/uc?export=view&id=10DzQS7JF8LZUqhrfXqBSZAY1OTPbSg3F)"
      ]
    },
    {
      "cell_type": "markdown",
      "metadata": {
        "id": "7mB0SBEZfCyb"
      },
      "source": [
        "#### 12 нод"
      ]
    },
    {
      "cell_type": "markdown",
      "metadata": {
        "id": "YDoshiwkfFND"
      },
      "source": [
        "![](https://drive.google.com/uc?export=view&id=10LypkAqu2T4WTv9WqLb67TWqCMHIwDLt)\n",
        "![](https://drive.google.com/uc?export=view&id=10NSS5U0XHI9q7yYpTBT2xqyerkbS2UgZ)"
      ]
    },
    {
      "cell_type": "markdown",
      "metadata": {
        "id": "im93hyJkUq7O"
      },
      "source": [
        "По графикам видно, что предположение о эффективности увеличения размера очереди подтвердилось и в этом эксперименте. \n",
        "Для одинакового кол-ва токенов latency при большем размере очереди в разы меньше.\n",
        "\n",
        "Аналогично и для throughput.\n",
        "\n",
        "Так важно заметить существование оптимального количества токенов в системе для throughput. Которое примерно равно половине максимальной нагрузке, что соответствует заполнености очередей наполовину в среднем. Из-за чего, вероятнее всего, и получается максимум - две соседние ноды смогут обработать весь пулл токенов без торможения остальных."
      ]
    },
    {
      "cell_type": "markdown",
      "metadata": {
        "id": "vDddXgvoUq2h"
      },
      "source": [
        "Характер зависимостей остается таким же для всех вариантов системы (для 4, 8, 12 нод).\n",
        "\n",
        "И при увеличении с 4 до 8 нод видно удлинение и оптимального участка для throughput, но при 12 нодах заметны симметричный впадины и появляется более явный оптимум\n"
      ]
    },
    {
      "cell_type": "markdown",
      "metadata": {
        "id": "v3t_iWOpUqz9"
      },
      "source": [
        "## Вывод"
      ]
    },
    {
      "cell_type": "markdown",
      "metadata": {
        "id": "phCrX9RKUqxg"
      },
      "source": [
        "Задача: Построение простой модели сетевого протокола TokenRing и исследовании его свойств\n",
        "\n",
        "Этапы:\n",
        "В данной работе реализована модель протокола, исследованы throughput и latency в зависимости от количества нод и количества токенов, проанализированы полученные результаты\n",
        "\n",
        "В результате, получены выводы, что latency прямо пропорциональнно зависит от размера очередей. Благодаря уменьшению времени ожидания нод на передачу токена следующей ноде.\n",
        "\n",
        "Так же выявлено существование некого оптимального диапозона количества токенов в системе в зависимости от размера очередей, равного половине макисмального количества токенов. Это может быть практически использовано в определении размера очередей для конкретной системы, с известными средними нагрузками в ней."
      ]
    },
    {
      "cell_type": "code",
      "metadata": {
        "id": "m7KQ5Q1LypxH"
      },
      "source": [
        ""
      ],
      "execution_count": null,
      "outputs": []
    }
  ]
}